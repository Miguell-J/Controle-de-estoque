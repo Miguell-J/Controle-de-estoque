{
 "cells": [
  {
   "cell_type": "code",
   "execution_count": 7,
   "id": "d2c40402",
   "metadata": {},
   "outputs": [
    {
     "name": "stdout",
     "output_type": "stream",
     "text": [
      "Insira o nome do produto: farinha\n",
      "Insira a categoria do produto: alimento\n",
      "Insira a quantidade do produto: 40\n",
      "O estoque atual de farinha está abaixo do limite mínimo, temos apenas 40 unidades do produto\n"
     ]
    }
   ],
   "source": [
    "# criacão de um sistema de controle de estoque com python utilizando if, elif e else\n",
    "\n",
    "# criando o input do usuário e o estoque mínimo\n",
    "nome_produto = input('Insira o nome do produto: ')\n",
    "categoria = input('Insira a categoria do produto: ')\n",
    "qtd_produto = input('Insira a quantidade do produto: ')\n",
    "alimentos = 50\n",
    "bebidas = 70\n",
    "limpeza = 30\n",
    "\n",
    "if nome_produto and categoria and qtd_produto: # verifica os 3 inputs\n",
    "    # if alimentos\n",
    "    if 'limento' in categoria: # 'limento' in permite que o código seja aceito mesmo que escrito alimento,Alimento,alimentos ou Alimentos\n",
    "        \n",
    "        # agora verificamos a quantidade do produto em relacão ao estoque e emite uma resposta\n",
    "        if int(qtd_produto) > alimentos:\n",
    "            print('O estoque atual de {} está acima do estoque mínimo, atualmente temos {} do produto'.format(nome_produto,qtd_produto))\n",
    "        \n",
    "        elif int(qtd_produto) == alimentos:\n",
    "            print('O estoque atual de {} está no limite mínimo, atualmente temos {} do produto'.format(nome_produto,qtd_produto))\n",
    "            \n",
    "        else:\n",
    "            print('O estoque atual de {} está abaixo do limite mínimo, temos apenas {} unidades do produto'.format(nome_produto,qtd_produto))\n",
    "    # if bebidas\n",
    "    if 'ebida' in categoria:\n",
    "        \n",
    "        if int(qtd_produto) > bebidas:\n",
    "            print('O estoque atual de {} está acima do estoque mínimo, atualmente temos {} do produto'\n",
    "                  .format(nome_produto,qtd_produto))\n",
    "            \n",
    "        elif int(qtd_produto) == bebidas:\n",
    "            print('O estoque atual de {} está no limite mínimo, atualmente temos {} do produto'\n",
    "                  .format(nome_produto,qtd_produto))\n",
    "            \n",
    "        else:\n",
    "            print('O estoque atual de {} está abaixo do limite mínimo, temos apenas {} unidades do produto'\n",
    "                  .format(nome_produto,qtd_produto))\n",
    "            \n",
    "    if 'impeza' in categoria:\n",
    "        \n",
    "        if int(qtd_produto) > limpeza:\n",
    "            print('O estoque atual de {} está acima do estoque mínimo, atualmente temos {} do produto'.format(nome_produto,qtd_produto))\n",
    "            \n",
    "        elif int(qtd_produto) == limpeza:\n",
    "            print('O estoque atual de {} está no limite mínimo, atualmente temos {} do produto'.format(nome_produto,qtd_produto))\n",
    "            \n",
    "        else:\n",
    "            print('O estoque atual de {} está abaixo do limite mínimo, temos apenas {} unidades do produto'.format(nome_produto,qtd_produto))\n",
    "            \n",
    "else: # se um dos campos estiver vazio\n",
    "    \n",
    "    if nome_produto == '':\n",
    "        print('por favor, coloque o nome do produto')\n",
    "    \n",
    "    if categoria == '':\n",
    "        print('por favor, coloque o a categoria do produto')\n",
    "        \n",
    "    if qtd_produto == '':\n",
    "        print('por favor, coloque a quantidade do produto')\n",
    "        \n",
    "            \n",
    "    \n"
   ]
  }
 ],
 "metadata": {
  "kernelspec": {
   "display_name": "Python 3 (ipykernel)",
   "language": "python",
   "name": "python3"
  },
  "language_info": {
   "codemirror_mode": {
    "name": "ipython",
    "version": 3
   },
   "file_extension": ".py",
   "mimetype": "text/x-python",
   "name": "python",
   "nbconvert_exporter": "python",
   "pygments_lexer": "ipython3",
   "version": "3.10.9"
  }
 },
 "nbformat": 4,
 "nbformat_minor": 5
}
